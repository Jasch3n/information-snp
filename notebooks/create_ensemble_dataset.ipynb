{
 "cells": [
  {
   "cell_type": "markdown",
   "metadata": {},
   "source": [
    "### Merging multiple model outputs into one ensemble dataset"
   ]
  },
  {
   "cell_type": "code",
   "execution_count": 1,
   "metadata": {},
   "outputs": [],
   "source": [
    "import numpy as np \n",
    "import matplotlib.pyplot as plt\n",
    "import xarray as xr\n",
    "import nc_time_axis\n",
    "import pandas as pd\n",
    "import re\n",
    "import cftime\n",
    "from tqdm import tqdm\n",
    "import os\n",
    "import warnings"
   ]
  },
  {
   "cell_type": "code",
   "execution_count": 116,
   "metadata": {},
   "outputs": [
    {
     "name": "stderr",
     "output_type": "stream",
     "text": [
      "100%|██████████████████████████████████████████████████████████████████████████████████| 48/48 [00:06<00:00,  7.73it/s]\n"
     ]
    }
   ],
   "source": [
    "MODEL_DIR = \"../data/models\"\n",
    "ds_paths = []\n",
    "for model in os.listdir(MODEL_DIR):\n",
    "    for member in os.listdir(os.path.join(MODEL_DIR, model, \"psl\")):\n",
    "        ds_paths.append(os.path.join(MODEL_DIR, model, \"psl\", member))\n",
    "\n",
    "# Add all the datasets into a list for concatenation\n",
    "ds_list = []\n",
    "interp_ds_list = []\n",
    "\n",
    "# Suppress the runtime warnings against calendar conversions\n",
    "with warnings.catch_warnings(action=\"ignore\"):\n",
    "    # Use the example dataset to interpolate every other\n",
    "    example_ds = xr.open_dataset(ds_paths[0])\n",
    "    example_ds['time'] = example_ds.indexes['time'].to_datetimeindex()\n",
    "    \n",
    "    for i in tqdm(range(len(ds_paths)), desc=\"\"):\n",
    "        ds = xr.open_dataset(ds_paths[i])\n",
    "        ds_list.append(ds)\n",
    "        # For the GFDL-CM2.1 model, drop the variables that we don't need\n",
    "        ds = ds.drop_vars([\"lon_bnds\", \"lat_bnds\", \"time_bnds\"])\n",
    "        \n",
    "        if \"average_DT\" in ds.variables:\n",
    "            ds = ds.drop_vars([\"average_DT\", \"average_T1\", \"average_T2\"])\n",
    "        \n",
    "        if type(ds.indexes['time'])!= pd.core.indexes.datetimes.DatetimeIndex:\n",
    "            ds['time'] = ds.indexes['time'].to_datetimeindex()\n",
    "        else:\n",
    "            ds['time'] = ds.indexes['time']\n",
    "        ds_new = ds.interp_like(example_ds)\n",
    "        interp_ds_list.append(ds_new)\n",
    "        \n",
    "ensemble = xr.concat(interp_ds_list, dim=\"n\")"
   ]
  },
  {
   "cell_type": "code",
   "execution_count": 118,
   "metadata": {},
   "outputs": [],
   "source": [
    "ensemble.to_netcdf(\"../data/ensembles/large_psl_decadal_ensemble_no_extrapolate.nc\")"
   ]
  }
 ],
 "metadata": {
  "kernelspec": {
   "display_name": "Python 3 (ipykernel)",
   "language": "python",
   "name": "python3"
  },
  "language_info": {
   "codemirror_mode": {
    "name": "ipython",
    "version": 3
   },
   "file_extension": ".py",
   "mimetype": "text/x-python",
   "name": "python",
   "nbconvert_exporter": "python",
   "pygments_lexer": "ipython3",
   "version": "3.11.4"
  }
 },
 "nbformat": 4,
 "nbformat_minor": 2
}
