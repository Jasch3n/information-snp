{
 "cells": [
  {
   "cell_type": "code",
   "execution_count": 8,
   "metadata": {},
   "outputs": [],
   "source": [
    "from pyesgf.search import SearchConnection\n",
    "import os\n",
    "import pandas as pd\n",
    "import requests\n",
    "from tqdm import tqdm\n",
    "import xarray as xr\n",
    "import json\n",
    "import requests\n",
    "from urllib3.exceptions import InsecureRequestWarning\n",
    "from urllib3 import disable_warnings\n",
    "disable_warnings(InsecureRequestWarning)\n",
    "os.environ[\"ESGF_PYCLIENT_NO_FACETS_STAR_WARNING\"] = \"on\""
   ]
  },
  {
   "cell_type": "markdown",
   "metadata": {},
   "source": [
    "# Download CMIP5 Models"
   ]
  },
  {
   "cell_type": "code",
   "execution_count": 9,
   "metadata": {},
   "outputs": [],
   "source": [
    "def download(url, path, filename):\n",
    "    total_filepath = os.path.join(path, filename)\n",
    "    \n",
    "    # Proceed if file doesn't exist yet\n",
    "    if os.path.exists(total_filepath):\n",
    "        return \n",
    "    \n",
    "    print(f\"Downloading {filename}\")\n",
    "    r = requests.get(url, stream=True, timeout=10, verify=False)\n",
    "    total_size, block_size = int(r.headers.get('content-length', 0)), 1024\n",
    "    with open(total_filepath, 'wb') as f:\n",
    "        for data in tqdm(r.iter_content(block_size),\n",
    "                         total=total_size//block_size,\n",
    "                         unit='KiB', unit_scale=True):\n",
    "            f.write(data)\n",
    "\n",
    "    if total_size != 0 and os.path.getsize(total_filepath) != total_size:\n",
    "        print(\"Downloaded size does not match expected size!\\n\",\n",
    "              \"FYI, the status code was \", r.status_code)"
   ]
  },
  {
   "cell_type": "code",
   "execution_count": 10,
   "metadata": {},
   "outputs": [],
   "source": [
    "conn = SearchConnection('https://esgf-node.llnl.gov/esg-search', distrib=True)"
   ]
  },
  {
   "cell_type": "code",
   "execution_count": 19,
   "metadata": {},
   "outputs": [
    {
     "name": "stdout",
     "output_type": "stream",
     "text": [
      "{'CanCM4': {'project': 'CMIP5', 'model': 'CanCM4', 'experiment': 'decadal1961', 'time_frequency': 'mon', 'realm': 'atmos', 'latest': True, 'data_node': 'crd-esgf-drc.ec.gc.ca'}, 'MIROC5': {'project': 'CMIP5', 'model': 'MIROC5', 'experiment': 'decadal1961', 'time_frequency': 'mon', 'realm': 'atmos', 'latest': True, 'data_node': 'aims3.llnl.gov'}, 'HadCM3': {'project': 'CMIP5', 'model': 'HadCM3', 'experiment': 'decadal1961', 'time_frequency': 'mon', 'realm': 'atmos', 'latest': True, 'data_node': 'esgf.ceda.ac.uk'}, 'MPI-ESM-LR': {'project': 'CMIP5', 'model': 'MPI-ESM-LR', 'experiment': 'decadal1961', 'time_frequency': 'mon', 'realm': 'atmos', 'latest': True, 'data_node': 'aims3.llnl.gov'}, 'GFDL-CM2.1': {'project': 'CMIP5', 'model': 'GFDL-CM2.1', 'experiment': 'decadal1961', 'time_frequency': 'mon', 'realm': 'atmos', 'latest': True, 'data_node': 'esgf.ceda.ac.uk'}}\n"
     ]
    }
   ],
   "source": [
    "# The file 'DATA_SUMMARY.json' is a user-created guide for which models/experiments to look at\n",
    "with open(\"../data/DATA_SUMMARY.json\", \"r\") as f:\n",
    "    DATA_TAB = json.load(f)\n",
    "\n",
    "variables = [\"tas\", \"psl\"]\n",
    "print(DATA_TAB)"
   ]
  },
  {
   "cell_type": "code",
   "execution_count": 20,
   "metadata": {},
   "outputs": [
    {
     "name": "stdout",
     "output_type": "stream",
     "text": [
      "esgf.ceda.ac.uk\n",
      "GFDL-CM2.1: 10 hits found.\n"
     ]
    },
    {
     "name": "stderr",
     "output_type": "stream",
     "text": [
      "Getting files from GFDL-CM2.1.: 100%|██████████| 10/10 [01:42<00:00, 10.28s/it]\n"
     ]
    }
   ],
   "source": [
    "# Get the list of files to download\n",
    "files_to_download = []\n",
    "for model in DATA_TAB.keys():\n",
    "    print(DATA_TAB[model][\"data_node\"])\n",
    "    # Query ESGF for all files matching the json object\n",
    "    query = conn.new_context(**DATA_TAB[model], variable=\",\".join(variables))\n",
    "    print(f\"{model}: {query.hit_count} hits found.\")\n",
    "    results = query.search()\n",
    "    \n",
    "    # Download all of them \n",
    "    for i in tqdm(range(len(results)), desc=f\"Getting files from {model}.\"):\n",
    "        files = results[i].file_context().search()\n",
    "        for file in files:\n",
    "            for var in variables:\n",
    "                if var in file.json[\"variable\"]:\n",
    "                    files_to_download.append({\"var\":var, \n",
    "                                         \"model\":model, \n",
    "                                         'filename': file.filename,\n",
    "                                         'url':file.download_url})"
   ]
  },
  {
   "cell_type": "code",
   "execution_count": 42,
   "metadata": {},
   "outputs": [],
   "source": [
    "with open('../data/FILES_TO_DOWNLOAD.json', 'w') as fout:\n",
    "    json.dump(files_to_download, fout)"
   ]
  },
  {
   "cell_type": "code",
   "execution_count": 3,
   "metadata": {},
   "outputs": [],
   "source": [
    "with open('../data/FILES_TO_DOWNLOAD.json', 'r') as f:\n",
    "    files_to_download = json.load(f)"
   ]
  },
  {
   "cell_type": "code",
   "execution_count": 21,
   "metadata": {},
   "outputs": [
    {
     "name": "stdout",
     "output_type": "stream",
     "text": [
      "../data/models/GFDL-CM2p1/psl\n",
      "Downloading psl_Amon_GFDL-CM2p1_decadal1961_r10i1p1_196101-197012.nc\n"
     ]
    },
    {
     "name": "stderr",
     "output_type": "stream",
     "text": [
      "6.09kKiB [00:02, 2.19kKiB/s]                          \n"
     ]
    },
    {
     "name": "stdout",
     "output_type": "stream",
     "text": [
      "../data/models/GFDL-CM2p1/tas\n",
      "Downloading tas_Amon_GFDL-CM2p1_decadal1961_r10i1p1_196101-197012.nc\n"
     ]
    },
    {
     "name": "stderr",
     "output_type": "stream",
     "text": [
      "6.09kKiB [00:02, 2.34kKiB/s]                          \n"
     ]
    },
    {
     "name": "stdout",
     "output_type": "stream",
     "text": [
      "Downloading psl_Amon_GFDL-CM2p1_decadal1961_r1i1p1_196101-197012.nc\n"
     ]
    },
    {
     "name": "stderr",
     "output_type": "stream",
     "text": [
      "6.09kKiB [00:02, 2.47kKiB/s]                          \n"
     ]
    },
    {
     "name": "stdout",
     "output_type": "stream",
     "text": [
      "Downloading tas_Amon_GFDL-CM2p1_decadal1961_r1i1p1_196101-197012.nc\n"
     ]
    },
    {
     "name": "stderr",
     "output_type": "stream",
     "text": [
      "6.09kKiB [00:09, 636KiB/s]                            \n"
     ]
    },
    {
     "name": "stdout",
     "output_type": "stream",
     "text": [
      "Downloading psl_Amon_GFDL-CM2p1_decadal1961_r2i1p1_196101-197012.nc\n"
     ]
    },
    {
     "name": "stderr",
     "output_type": "stream",
     "text": [
      "6.09kKiB [00:03, 1.66kKiB/s]                          \n"
     ]
    },
    {
     "name": "stdout",
     "output_type": "stream",
     "text": [
      "Downloading tas_Amon_GFDL-CM2p1_decadal1961_r2i1p1_196101-197012.nc\n"
     ]
    },
    {
     "name": "stderr",
     "output_type": "stream",
     "text": [
      "6.09kKiB [00:02, 2.14kKiB/s]                          \n"
     ]
    },
    {
     "name": "stdout",
     "output_type": "stream",
     "text": [
      "Downloading psl_Amon_GFDL-CM2p1_decadal1961_r3i1p1_196101-197012.nc\n"
     ]
    },
    {
     "name": "stderr",
     "output_type": "stream",
     "text": [
      "6.09kKiB [00:02, 2.40kKiB/s]                          \n"
     ]
    },
    {
     "name": "stdout",
     "output_type": "stream",
     "text": [
      "Downloading tas_Amon_GFDL-CM2p1_decadal1961_r3i1p1_196101-197012.nc\n"
     ]
    },
    {
     "name": "stderr",
     "output_type": "stream",
     "text": [
      "6.09kKiB [00:02, 2.49kKiB/s]                          \n"
     ]
    },
    {
     "name": "stdout",
     "output_type": "stream",
     "text": [
      "Downloading psl_Amon_GFDL-CM2p1_decadal1961_r4i1p1_196101-197012.nc\n"
     ]
    },
    {
     "name": "stderr",
     "output_type": "stream",
     "text": [
      "6.09kKiB [00:02, 2.50kKiB/s]                          \n"
     ]
    },
    {
     "name": "stdout",
     "output_type": "stream",
     "text": [
      "Downloading tas_Amon_GFDL-CM2p1_decadal1961_r4i1p1_196101-197012.nc\n"
     ]
    },
    {
     "name": "stderr",
     "output_type": "stream",
     "text": [
      "6.09kKiB [00:02, 2.49kKiB/s]                          \n"
     ]
    },
    {
     "name": "stdout",
     "output_type": "stream",
     "text": [
      "Downloading psl_Amon_GFDL-CM2p1_decadal1961_r5i1p1_196101-197012.nc\n"
     ]
    },
    {
     "name": "stderr",
     "output_type": "stream",
     "text": [
      "6.09kKiB [00:02, 2.46kKiB/s]                          \n"
     ]
    },
    {
     "name": "stdout",
     "output_type": "stream",
     "text": [
      "Downloading tas_Amon_GFDL-CM2p1_decadal1961_r5i1p1_196101-197012.nc\n"
     ]
    },
    {
     "name": "stderr",
     "output_type": "stream",
     "text": [
      "6.09kKiB [00:02, 2.58kKiB/s]                          \n"
     ]
    },
    {
     "name": "stdout",
     "output_type": "stream",
     "text": [
      "Downloading psl_Amon_GFDL-CM2p1_decadal1961_r6i1p1_196101-197012.nc\n"
     ]
    },
    {
     "name": "stderr",
     "output_type": "stream",
     "text": [
      "6.09kKiB [00:02, 2.50kKiB/s]                          \n"
     ]
    },
    {
     "name": "stdout",
     "output_type": "stream",
     "text": [
      "Downloading tas_Amon_GFDL-CM2p1_decadal1961_r6i1p1_196101-197012.nc\n"
     ]
    },
    {
     "name": "stderr",
     "output_type": "stream",
     "text": [
      "6.09kKiB [00:02, 2.52kKiB/s]                          \n"
     ]
    },
    {
     "name": "stdout",
     "output_type": "stream",
     "text": [
      "Downloading psl_Amon_GFDL-CM2p1_decadal1961_r7i1p1_196101-197012.nc\n"
     ]
    },
    {
     "name": "stderr",
     "output_type": "stream",
     "text": [
      "6.09kKiB [00:02, 2.56kKiB/s]                          \n"
     ]
    },
    {
     "name": "stdout",
     "output_type": "stream",
     "text": [
      "Downloading tas_Amon_GFDL-CM2p1_decadal1961_r7i1p1_196101-197012.nc\n"
     ]
    },
    {
     "name": "stderr",
     "output_type": "stream",
     "text": [
      "6.09kKiB [00:09, 640KiB/s]                            \n"
     ]
    },
    {
     "name": "stdout",
     "output_type": "stream",
     "text": [
      "Downloading psl_Amon_GFDL-CM2p1_decadal1961_r8i1p1_196101-197012.nc\n"
     ]
    },
    {
     "name": "stderr",
     "output_type": "stream",
     "text": [
      "6.09kKiB [00:03, 1.72kKiB/s]                          \n"
     ]
    },
    {
     "name": "stdout",
     "output_type": "stream",
     "text": [
      "Downloading tas_Amon_GFDL-CM2p1_decadal1961_r8i1p1_196101-197012.nc\n"
     ]
    },
    {
     "name": "stderr",
     "output_type": "stream",
     "text": [
      "6.09kKiB [00:02, 2.16kKiB/s]                          \n"
     ]
    },
    {
     "name": "stdout",
     "output_type": "stream",
     "text": [
      "Downloading psl_Amon_GFDL-CM2p1_decadal1961_r9i1p1_196101-197012.nc\n"
     ]
    },
    {
     "name": "stderr",
     "output_type": "stream",
     "text": [
      "6.09kKiB [00:02, 2.39kKiB/s]                          \n"
     ]
    },
    {
     "name": "stdout",
     "output_type": "stream",
     "text": [
      "Downloading tas_Amon_GFDL-CM2p1_decadal1961_r9i1p1_196101-197012.nc\n"
     ]
    },
    {
     "name": "stderr",
     "output_type": "stream",
     "text": [
      "6.09kKiB [00:02, 2.47kKiB/s]                          \n"
     ]
    }
   ],
   "source": [
    "for i in range(len(files_to_download)):\n",
    "    target_f = files_to_download[i]\n",
    "    data_folder_path = f\"../data/models/{target_f['model'].replace('.', 'p')}/{target_f['var']}\"\n",
    "    \n",
    "    if not os.path.isdir(data_folder_path):\n",
    "        print(data_folder_path)\n",
    "        os.makedirs(data_folder_path)\n",
    "        \n",
    "    download(target_f[\"url\"],\n",
    "            data_folder_path,\n",
    "            target_f[\"filename\"])"
   ]
  },
  {
   "cell_type": "code",
   "execution_count": 27,
   "metadata": {},
   "outputs": [
    {
     "name": "stdout",
     "output_type": "stream",
     "text": [
      "Downloading tas_Amon_HadCM3_decadal1961_r10i2p1_196111-197112.nc\n"
     ]
    },
    {
     "name": "stdout",
     "output_type": "stream",
     "text": [
      "Request processed...\n"
     ]
    },
    {
     "name": "stderr",
     "output_type": "stream",
     "text": [
      "3.36kKiB [00:00, 4.15kKiB/s]                          \n"
     ]
    }
   ],
   "source": [
    "download(files_to_download[1][\"url\"], None, files_to_download[1][\"filename\"])"
   ]
  }
 ],
 "metadata": {
  "kernelspec": {
   "display_name": "senior-thesis",
   "language": "python",
   "name": "python3"
  },
  "language_info": {
   "codemirror_mode": {
    "name": "ipython",
    "version": 3
   },
   "file_extension": ".py",
   "mimetype": "text/x-python",
   "name": "python",
   "nbconvert_exporter": "python",
   "pygments_lexer": "ipython3",
   "version": "3.11.4"
  }
 },
 "nbformat": 4,
 "nbformat_minor": 2
}
